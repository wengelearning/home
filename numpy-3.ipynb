{
 "cells": [
  {
   "cell_type": "code",
   "execution_count": 1,
   "metadata": {},
   "outputs": [
    {
     "data": {
      "text/plain": [
       "numpy.ndarray"
      ]
     },
     "execution_count": 1,
     "metadata": {},
     "output_type": "execute_result"
    }
   ],
   "source": [
    "import numpy as np\n",
    "a=[1,2,3,4]\n",
    "b=np.array(a)\n",
    "type(b)\n",
    "b.shape\n",
    "b.argmax()#最大值的坐标\n",
    "b.max()\n",
    "b.mean()"
   ]
  },
  {
   "cell_type": "code",
   "execution_count": 7,
   "metadata": {},
   "outputs": [
    {
     "name": "stdout",
     "output_type": "stream",
     "text": [
      "[[1 2]\n",
      " [3 4]]\n",
      "[3 4]\n",
      "[2 4]\n",
      "[1 2 3 4]\n"
     ]
    }
   ],
   "source": [
    "c=[[1,2],[3,4]]\n",
    "d=np.array(c)\n",
    "d.size\n",
    "print(d)\n",
    "print(d.max(axis=0))#纵轴方向上的最大值\n",
    "print(d.max(axis=1))#横轴方向上的最大值\n",
    "print(d.flatten())#展看一个numpy数组为1维数组\n",
    "np.save('d.npy',d)#保存到文件\n",
    "d1=np.load('d.npy')#从文件读取"
   ]
  },
  {
   "cell_type": "code",
   "execution_count": 14,
   "metadata": {},
   "outputs": [
    {
     "name": "stdout",
     "output_type": "stream",
     "text": [
      "[3 3 3 3]\n"
     ]
    }
   ],
   "source": [
    "e=np.repeat(3,4)#创建一个一维数组，元素值是把3重复4次\n",
    "print(e)"
   ]
  },
  {
   "cell_type": "code",
   "execution_count": 13,
   "metadata": {},
   "outputs": [
    {
     "name": "stdout",
     "output_type": "stream",
     "text": [
      "[ 0.   1.5  3.   4.5  6. ]\n"
     ]
    }
   ],
   "source": [
    "f=np.linspace(0,6,5)#等差数列，0到6之间取5个值\n",
    "print(f)"
   ]
  },
  {
   "cell_type": "code",
   "execution_count": 12,
   "metadata": {},
   "outputs": [
    {
     "name": "stdout",
     "output_type": "stream",
     "text": [
      "[array([0, 1, 2]), array([3, 4, 5]), array([6, 7, 8])]\n",
      "[array([0, 1]), array([2, 3, 4, 5]), array([6, 7, 8])]\n"
     ]
    }
   ],
   "source": [
    "g=np.split(np.arange(9),3)#平均分成3份\n",
    "h=np.split(np.arange(9),[2,-3])#按下标位置划分\n",
    "print(g)\n",
    "print(h)"
   ]
  },
  {
   "cell_type": "code",
   "execution_count": 15,
   "metadata": {
    "collapsed": true
   },
   "outputs": [],
   "source": [
    "a=np.abs(-1)\n",
    "b=np.sin(np.pi/2)\n",
    "c=np.arctanh(0.462118)#\n",
    "d=np.exp(3)#e^3\n",
    "f=np.power(2,3)#2的3次方\n",
    "g=np.dot([1,2],[3,4])#点积\n",
    "h=np.sqrt(25)#开方\n",
    "l=np.sum([1,2,3,4])\n",
    "m=np.mean([4,5,6,7])\n",
    "n=np.std([1,2,3,2,1,3,2,0])#标准差"
   ]
  },
  {
   "cell_type": "code",
   "execution_count": 18,
   "metadata": {},
   "outputs": [
    {
     "name": "stdout",
     "output_type": "stream",
     "text": [
      "<class 'range'>\n",
      "<class 'numpy.ndarray'>\n",
      "<class 'tuple'>\n",
      "<class 'list'>\n"
     ]
    }
   ],
   "source": [
    "a=range(1,5)#均可以用于迭代，区别：返回的类型不一样\n",
    "b=np.arange(1,5)\n",
    "c=tuple(a)\n",
    "d=list(a)\n",
    "print(type(a))\n",
    "print(type(b))\n",
    "print(type(c))\n",
    "print(type(d))"
   ]
  },
  {
   "cell_type": "code",
   "execution_count": 20,
   "metadata": {},
   "outputs": [
    {
     "data": {
      "text/plain": [
       "5.0"
      ]
     },
     "execution_count": 20,
     "metadata": {},
     "output_type": "execute_result"
    }
   ],
   "source": [
    "a=np.array([3,4])\n",
    "b=np.linalg.norm(a)\n",
    "'''\n",
    "用法：norm(x, ord=None, axis=None, keepdims=False)求范数( 向量的度量)\n",
    "ord=1,2,np.inf(一范数，二范数，无穷范数)默认二范数\n",
    "一范数：向量每个值的绝对值的和\n",
    "二范数：向量每个值的平方和的开方\n",
    "无穷范数：向量每个值的绝对值的最大值\n",
    "'''\n",
    "b#b的值等于根号下3^2+4^2"
   ]
  },
  {
   "cell_type": "code",
   "execution_count": 24,
   "metadata": {},
   "outputs": [
    {
     "data": {
      "text/plain": [
       "array([ 5.4649857 ,  0.36596619])"
      ]
     },
     "execution_count": 24,
     "metadata": {},
     "output_type": "execute_result"
    }
   ],
   "source": [
    "b=np.array([[1,2,3],[4,5,6],[7,8,9]])\n",
    "c=np.array([1,0,1])\n",
    "np.dot(b,c)\n",
    "np.trace(b)#矩阵的迹\n",
    "np.linalg.det(b)#矩阵的行列式\n",
    "np.linalg.matrix_rank(b)#矩阵的秩\n",
    "e=np.array([[1,2],[3,4]])\n",
    "U,s,V=np.linalg.svd(e)#对矩阵进行SVD分解\n",
    "s"
   ]
  },
  {
   "cell_type": "code",
   "execution_count": 29,
   "metadata": {},
   "outputs": [
    {
     "name": "stdout",
     "output_type": "stream",
     "text": [
      "you win6616 out of 10000 tests if you changed your mind\n",
      "you win 3384 out of 10000 tests if you insist on the initial choice\n"
     ]
    }
   ],
   "source": [
    "import numpy.random as random\n",
    "random.seed(42)\n",
    "n_tests=10000#实验次数\n",
    "winning_doors=random.randint(0,3,n_tests)#生成每次实验的奖品所在的门的编号\n",
    "change_mind_wins=0#换门中奖的次数\n",
    "insist_wins=0#坚持中奖的次数\n",
    "for winning_door in winning_doors:#winning_door中奖门的编号\n",
    "    first_try=random.randint(0,3)#随机挑选一扇门\n",
    "    remaining_choices=[i for i in range(3) if i !=first_try]#其它门的编号\n",
    "    wrong_choices=[i for i in range(3) if i !=winning_door]#没有奖品门的编号\n",
    "    if first_try in wrong_choices:#一开始选择没有奖品的门\n",
    "        wrong_choices.remove(first_try)#没有奖品的门去除1个\n",
    "    screened_out=random.choice(wrong_choices)#主持人打开没有奖品门中的一个\n",
    "    remaining_choices.remove(screened_out)#剩余可选择的门去除主持人打开的一个\n",
    "    changed_mind_try=remaining_choices[0]#如果改变选择，可选择的只剩一个\n",
    "    change_mind_wins +=1 if changed_mind_try==winning_door else 0#\n",
    "    insist_wins +=1 if first_try==winning_door else 0\n",
    "print('you win{1} out of {0} tests if you changed your mind\\n'\n",
    "     'you win {2} out of {0} tests if you insist on the initial choice'.format(\n",
    "     n_tests,change_mind_wins,insist_wins))"
   ]
  },
  {
   "cell_type": "code",
   "execution_count": null,
   "metadata": {
    "collapsed": true
   },
   "outputs": [],
   "source": []
  }
 ],
 "metadata": {
  "kernelspec": {
   "display_name": "Python 3",
   "language": "python",
   "name": "python3"
  },
  "language_info": {
   "codemirror_mode": {
    "name": "ipython",
    "version": 3
   },
   "file_extension": ".py",
   "mimetype": "text/x-python",
   "name": "python",
   "nbconvert_exporter": "python",
   "pygments_lexer": "ipython3",
   "version": "3.6.2"
  }
 },
 "nbformat": 4,
 "nbformat_minor": 2
}
